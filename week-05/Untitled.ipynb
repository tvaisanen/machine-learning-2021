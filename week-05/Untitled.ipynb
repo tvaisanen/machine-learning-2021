{
 "cells": [
  {
   "cell_type": "code",
   "execution_count": 1,
   "metadata": {},
   "outputs": [],
   "source": [
    "import pandas as pd\n",
    "import numpy as np"
   ]
  },
  {
   "cell_type": "code",
   "execution_count": 4,
   "metadata": {},
   "outputs": [],
   "source": [
    "A = pd.read_csv('3class_data.csv', header=None)"
   ]
  },
  {
   "cell_type": "code",
   "execution_count": 8,
   "metadata": {},
   "outputs": [
    {
     "data": {
      "text/html": [
       "<div>\n",
       "<style scoped>\n",
       "    .dataframe tbody tr th:only-of-type {\n",
       "        vertical-align: middle;\n",
       "    }\n",
       "\n",
       "    .dataframe tbody tr th {\n",
       "        vertical-align: top;\n",
       "    }\n",
       "\n",
       "    .dataframe thead th {\n",
       "        text-align: right;\n",
       "    }\n",
       "</style>\n",
       "<table border=\"1\" class=\"dataframe\">\n",
       "  <thead>\n",
       "    <tr style=\"text-align: right;\">\n",
       "      <th></th>\n",
       "      <th>0</th>\n",
       "      <th>1</th>\n",
       "      <th>2</th>\n",
       "      <th>3</th>\n",
       "      <th>4</th>\n",
       "      <th>5</th>\n",
       "      <th>6</th>\n",
       "      <th>7</th>\n",
       "      <th>8</th>\n",
       "      <th>9</th>\n",
       "      <th>...</th>\n",
       "      <th>20</th>\n",
       "      <th>21</th>\n",
       "      <th>22</th>\n",
       "      <th>23</th>\n",
       "      <th>24</th>\n",
       "      <th>25</th>\n",
       "      <th>26</th>\n",
       "      <th>27</th>\n",
       "      <th>28</th>\n",
       "      <th>29</th>\n",
       "    </tr>\n",
       "  </thead>\n",
       "  <tbody>\n",
       "    <tr>\n",
       "      <th>0</th>\n",
       "      <td>0.14862</td>\n",
       "      <td>0.081797</td>\n",
       "      <td>0.20622</td>\n",
       "      <td>0.23157</td>\n",
       "      <td>0.33525</td>\n",
       "      <td>0.24770</td>\n",
       "      <td>0.13710</td>\n",
       "      <td>0.32373</td>\n",
       "      <td>0.28226</td>\n",
       "      <td>0.18318</td>\n",
       "      <td>...</td>\n",
       "      <td>0.41820</td>\n",
       "      <td>0.34217</td>\n",
       "      <td>0.47350</td>\n",
       "      <td>0.579490</td>\n",
       "      <td>0.415900</td>\n",
       "      <td>0.52419</td>\n",
       "      <td>0.32834</td>\n",
       "      <td>0.25461</td>\n",
       "      <td>0.19700</td>\n",
       "      <td>0.59332</td>\n",
       "    </tr>\n",
       "    <tr>\n",
       "      <th>1</th>\n",
       "      <td>0.71574</td>\n",
       "      <td>0.625360</td>\n",
       "      <td>0.63703</td>\n",
       "      <td>0.86152</td>\n",
       "      <td>0.76822</td>\n",
       "      <td>0.78571</td>\n",
       "      <td>0.85569</td>\n",
       "      <td>0.65743</td>\n",
       "      <td>0.55539</td>\n",
       "      <td>0.55539</td>\n",
       "      <td>...</td>\n",
       "      <td>0.18222</td>\n",
       "      <td>0.27259</td>\n",
       "      <td>0.28717</td>\n",
       "      <td>0.053936</td>\n",
       "      <td>0.021866</td>\n",
       "      <td>0.15889</td>\n",
       "      <td>0.16472</td>\n",
       "      <td>0.31341</td>\n",
       "      <td>0.20262</td>\n",
       "      <td>0.23178</td>\n",
       "    </tr>\n",
       "  </tbody>\n",
       "</table>\n",
       "<p>2 rows × 30 columns</p>\n",
       "</div>"
      ],
      "text/plain": [
       "        0         1        2        3        4        5        6        7   \\\n",
       "0  0.14862  0.081797  0.20622  0.23157  0.33525  0.24770  0.13710  0.32373   \n",
       "1  0.71574  0.625360  0.63703  0.86152  0.76822  0.78571  0.85569  0.65743   \n",
       "\n",
       "        8        9   ...       20       21       22        23        24  \\\n",
       "0  0.28226  0.18318  ...  0.41820  0.34217  0.47350  0.579490  0.415900   \n",
       "1  0.55539  0.55539  ...  0.18222  0.27259  0.28717  0.053936  0.021866   \n",
       "\n",
       "        25       26       27       28       29  \n",
       "0  0.52419  0.32834  0.25461  0.19700  0.59332  \n",
       "1  0.15889  0.16472  0.31341  0.20262  0.23178  \n",
       "\n",
       "[2 rows x 30 columns]"
      ]
     },
     "execution_count": 8,
     "metadata": {},
     "output_type": "execute_result"
    }
   ],
   "source": [
    "x = A.loc[[0,1]]\n",
    "x"
   ]
  },
  {
   "cell_type": "code",
   "execution_count": 9,
   "metadata": {},
   "outputs": [
    {
     "data": {
      "text/plain": [
       "0     0.0\n",
       "1     0.0\n",
       "2     0.0\n",
       "3     0.0\n",
       "4     0.0\n",
       "5     0.0\n",
       "6     0.0\n",
       "7     0.0\n",
       "8     0.0\n",
       "9     0.0\n",
       "10    1.0\n",
       "11    1.0\n",
       "12    1.0\n",
       "13    1.0\n",
       "14    1.0\n",
       "15    1.0\n",
       "16    1.0\n",
       "17    1.0\n",
       "18    1.0\n",
       "19    1.0\n",
       "20    2.0\n",
       "21    2.0\n",
       "22    2.0\n",
       "23    2.0\n",
       "24    2.0\n",
       "25    2.0\n",
       "26    2.0\n",
       "27    2.0\n",
       "28    2.0\n",
       "29    2.0\n",
       "Name: 2, dtype: float64"
      ]
     },
     "execution_count": 9,
     "metadata": {},
     "output_type": "execute_result"
    }
   ],
   "source": [
    "y = A.loc[2]\n",
    "y"
   ]
  },
  {
   "cell_type": "code",
   "execution_count": 10,
   "metadata": {},
   "outputs": [],
   "source": [
    "def model(x, w):\n",
    "    a = w[0] + np.dot(x.T,w[1:])\n",
    "    return a.T"
   ]
  },
  {
   "cell_type": "code",
   "execution_count": 24,
   "metadata": {},
   "outputs": [],
   "source": [
    "all_evals = np.array([\n",
    "            [1, 0, 0],\n",
    "            [1, 0, 0],\n",
    "            [0, 2, 0],\n",
    "            [0, 2, 0],\n",
    "            [0, 0, 3],\n",
    "            [0, 0, 3]])"
   ]
  },
  {
   "cell_type": "code",
   "execution_count": 39,
   "metadata": {},
   "outputs": [
    {
     "data": {
      "text/plain": [
       "array([0, 0, 1, 1, 2, 2])"
      ]
     },
     "execution_count": 39,
     "metadata": {},
     "output_type": "execute_result"
    }
   ],
   "source": [
    "y = np.array([0,0,1,1,2,2])\n",
    "np.size(y)\n",
    "y.flatten()"
   ]
  },
  {
   "cell_type": "code",
   "execution_count": 42,
   "metadata": {},
   "outputs": [
    {
     "data": {
      "text/plain": [
       "array([1, 1, 2, 2, 3, 3])"
      ]
     },
     "execution_count": 42,
     "metadata": {},
     "output_type": "execute_result"
    }
   ],
   "source": [
    "all_evals[np.arange(np.size(y)), y.flatten()]"
   ]
  }
 ],
 "metadata": {
  "kernelspec": {
   "display_name": "Python 3",
   "language": "python",
   "name": "python3"
  },
  "language_info": {
   "codemirror_mode": {
    "name": "ipython",
    "version": 3
   },
   "file_extension": ".py",
   "mimetype": "text/x-python",
   "name": "python",
   "nbconvert_exporter": "python",
   "pygments_lexer": "ipython3",
   "version": "3.9.1"
  }
 },
 "nbformat": 4,
 "nbformat_minor": 4
}
